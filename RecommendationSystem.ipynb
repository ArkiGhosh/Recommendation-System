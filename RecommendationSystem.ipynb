{
 "cells": [
  {
   "cell_type": "code",
   "execution_count": 2,
   "id": "902bb0f7",
   "metadata": {},
   "outputs": [],
   "source": [
    "import numpy as np\n",
    "import operator\n",
    "import pandas as pd\n",
    "from collections import defaultdict\n",
    "import matplotlib.pyplot as plt\n",
    "import warnings\n",
    "warnings.filterwarnings('ignore')\n"
   ]
  },
  {
   "cell_type": "markdown",
   "id": "a1945a50",
   "metadata": {},
   "source": [
    "## Reading dataset\n",
    "\n",
    "[Dataset link](https://www.kaggle.com/arhamrumi/amazon-reviews-eda-20012018)\n"
   ]
  },
  {
   "cell_type": "code",
   "execution_count": 3,
   "id": "edc3d605",
   "metadata": {},
   "outputs": [
    {
     "name": "stdout",
     "output_type": "stream",
     "text": [
      "<class 'pandas.core.frame.DataFrame'>\n",
      "RangeIndex: 12969732 entries, 0 to 12969731\n",
      "Data columns (total 6 columns):\n",
      " #   Column      Dtype \n",
      "---  ------      ----- \n",
      " 0   rating      int64 \n",
      " 1   verified    bool  \n",
      " 2   reviewerID  object\n",
      " 3   product_id  object\n",
      " 4   date        int64 \n",
      " 5   vote        object\n",
      "dtypes: bool(1), int64(2), object(3)\n",
      "memory usage: 507.1+ MB\n"
     ]
    }
   ],
   "source": [
    "sports = pd.read_csv(\"Sports_and_Outdoors.csv\")\n",
    "sports.info()\n"
   ]
  },
  {
   "cell_type": "markdown",
   "id": "a9b91ff6",
   "metadata": {},
   "source": [
    "### Dropping columns not used for analysis"
   ]
  },
  {
   "cell_type": "code",
   "execution_count": 4,
   "id": "be0b49cb",
   "metadata": {},
   "outputs": [
    {
     "data": {
      "text/html": [
       "<div>\n",
       "<style scoped>\n",
       "    .dataframe tbody tr th:only-of-type {\n",
       "        vertical-align: middle;\n",
       "    }\n",
       "\n",
       "    .dataframe tbody tr th {\n",
       "        vertical-align: top;\n",
       "    }\n",
       "\n",
       "    .dataframe thead th {\n",
       "        text-align: right;\n",
       "    }\n",
       "</style>\n",
       "<table border=\"1\" class=\"dataframe\">\n",
       "  <thead>\n",
       "    <tr style=\"text-align: right;\">\n",
       "      <th></th>\n",
       "      <th>rating</th>\n",
       "      <th>reviewerID</th>\n",
       "      <th>product_id</th>\n",
       "      <th>date</th>\n",
       "    </tr>\n",
       "  </thead>\n",
       "  <tbody>\n",
       "    <tr>\n",
       "      <th>12968859</th>\n",
       "      <td>3</td>\n",
       "      <td>AAL07KPFE0VFI</td>\n",
       "      <td>B01HIT0QDG</td>\n",
       "      <td>1538697600</td>\n",
       "    </tr>\n",
       "    <tr>\n",
       "      <th>12969474</th>\n",
       "      <td>5</td>\n",
       "      <td>A39ANO7WWQ9PE8</td>\n",
       "      <td>B01HJA3STS</td>\n",
       "      <td>1538697600</td>\n",
       "    </tr>\n",
       "    <tr>\n",
       "      <th>12969475</th>\n",
       "      <td>5</td>\n",
       "      <td>A4HCTG3TV7UPM</td>\n",
       "      <td>B01HJA3STS</td>\n",
       "      <td>1538611200</td>\n",
       "    </tr>\n",
       "    <tr>\n",
       "      <th>12969105</th>\n",
       "      <td>1</td>\n",
       "      <td>A30DF0WFD9U1PT</td>\n",
       "      <td>B01HIY7NPU</td>\n",
       "      <td>1538611200</td>\n",
       "    </tr>\n",
       "    <tr>\n",
       "      <th>12965742</th>\n",
       "      <td>5</td>\n",
       "      <td>A2WCAIO2XACZ01</td>\n",
       "      <td>B01HGSLB6K</td>\n",
       "      <td>1538611200</td>\n",
       "    </tr>\n",
       "  </tbody>\n",
       "</table>\n",
       "</div>"
      ],
      "text/plain": [
       "          rating      reviewerID  product_id        date\n",
       "12968859       3   AAL07KPFE0VFI  B01HIT0QDG  1538697600\n",
       "12969474       5  A39ANO7WWQ9PE8  B01HJA3STS  1538697600\n",
       "12969475       5   A4HCTG3TV7UPM  B01HJA3STS  1538611200\n",
       "12969105       1  A30DF0WFD9U1PT  B01HIY7NPU  1538611200\n",
       "12965742       5  A2WCAIO2XACZ01  B01HGSLB6K  1538611200"
      ]
     },
     "execution_count": 4,
     "metadata": {},
     "output_type": "execute_result"
    }
   ],
   "source": [
    "sports.drop(['verified', 'vote'], axis=1, inplace=True)\n",
    "sports = sports.sort_values('date', ascending=False)\n",
    "sports.head()\n"
   ]
  },
  {
   "cell_type": "code",
   "execution_count": 5,
   "id": "98e686fc",
   "metadata": {},
   "outputs": [
    {
     "name": "stdout",
     "output_type": "stream",
     "text": [
      "Number of unique products 957764\n",
      "Number of unique users 6703391\n"
     ]
    }
   ],
   "source": [
    "products = sports['product_id'].unique()\n",
    "users = sports['reviewerID'].unique()\n",
    "print('Number of unique products', len(products))\n",
    "print('Number of unique users', len(users))\n"
   ]
  },
  {
   "cell_type": "markdown",
   "id": "3ba8d788",
   "metadata": {},
   "source": [
    "\n",
    "\n",
    "* Making a dictionary to store all ratings given by users to a particular product  \n",
    "\n"
   ]
  },
  {
   "cell_type": "code",
   "execution_count": 6,
   "id": "2550ec90",
   "metadata": {},
   "outputs": [],
   "source": [
    "all_products = defaultdict(dict)\n",
    "for ind in sports.itertuples():\n",
    "    all_products[ind.product_id][ind.reviewerID] = ind.rating\n",
    "all_products = dict(all_products)\n"
   ]
  },
  {
   "cell_type": "markdown",
   "id": "9e459f9c",
   "metadata": {},
   "source": [
    "  \n",
    "\n",
    "* Removing all products for which only 1 rating has been given   \n",
    "\n"
   ]
  },
  {
   "cell_type": "code",
   "execution_count": 7,
   "id": "afd6dcce",
   "metadata": {},
   "outputs": [],
   "source": [
    "new_all = defaultdict(dict)\n",
    "product_id_nottake = set()\n",
    "for i, val in all_products.items():\n",
    "    if len(val) > 1:\n",
    "        new_all[i] = val.copy()\n",
    "    else:\n",
    "        product_id_nottake.add(i)\n",
    "new_all = dict(new_all)\n",
    "all_products = new_all\n"
   ]
  },
  {
   "cell_type": "markdown",
   "id": "7726f7c2",
   "metadata": {},
   "source": [
    "   \n",
    "\n",
    "* Making a dictionary to store all ratings given to products by a particular user  \n",
    "(Note that the products which had only 1 rating will not be reflected in this dictionary)   \n",
    "\n"
   ]
  },
  {
   "cell_type": "code",
   "execution_count": 8,
   "id": "b255f95a",
   "metadata": {},
   "outputs": [],
   "source": [
    "all_users = defaultdict(dict)\n",
    "for ind in sports.itertuples():\n",
    "    if ind.product_id not in product_id_nottake:\n",
    "        all_users[ind.reviewerID][ind.product_id] = ind.rating\n",
    "all_users = dict(all_users)\n"
   ]
  },
  {
   "cell_type": "markdown",
   "id": "9511a5c1",
   "metadata": {},
   "source": [
    "## Making the data centered around zero\n",
    "\n",
    "> This is a preprocessing step which helps us in computing the **Pearson correlation**.   \n",
    " \n",
    "$r =\\frac{\\sum\\left(x_{i}-\\bar{x}\\right)\\left(y_{i}-\\bar{y}\\right)}{\\sqrt{\\sum\\left(x_{i}-\\bar{x}\\right)^{2} \\sum\\left(y_{i}-\\bar{y}\\right)^{2}}}$  \n",
    "\n",
    "$r$\t= Correlation coefficient  \n",
    "$x_{i}$\t=\tvalues of the x-variable in a sample  \n",
    "$\\bar{x}$ =\tmean of the values of the x-variable  \n",
    "$y_{i}$\t=\tvalues of the y-variable in a sample  \n",
    "$\\bar{y}$\t=\tmean of the values of the y-variable  \n",
    "\n",
    "We assume that a value of zero is given to all the products for which ratings haven't been given by a particular user.Thus, the set of all ratings for a given user can now be considered as a vector.  \n",
    "\n"
   ]
  },
  {
   "cell_type": "code",
   "execution_count": 9,
   "id": "9134aee2",
   "metadata": {},
   "outputs": [],
   "source": [
    "epsilon = 1e-6\n",
    "normalized_products = defaultdict(dict)\n",
    "for i, val in all_products.items():\n",
    "    normalized_products[i] = val.copy()\n",
    "for i, val in normalized_products.items():\n",
    "    values = list(val.values())\n",
    "    mean_val = np.mean(values)\n",
    "    for j in val:\n",
    "        val[j] -= mean_val\n"
   ]
  },
  {
   "cell_type": "markdown",
   "id": "2ba298a8",
   "metadata": {},
   "source": [
    "\n",
    "* For the each of the vectors defined in the previous step, we find the magnitudes.\n",
    "\n",
    " "
   ]
  },
  {
   "cell_type": "code",
   "execution_count": 10,
   "id": "1e839dfc",
   "metadata": {},
   "outputs": [],
   "source": [
    "magnitudes = defaultdict(dict)\n",
    "\n",
    "for i in normalized_products:\n",
    "    values = list(normalized_products[i].values())\n",
    "    magnitudes[i] = np.sqrt(np.sum(np.square(values)))\n"
   ]
  },
  {
   "cell_type": "markdown",
   "id": "dddbe28e",
   "metadata": {},
   "source": [
    "### TODO:"
   ]
  },
  {
   "cell_type": "code",
   "execution_count": 11,
   "id": "2a54d913",
   "metadata": {},
   "outputs": [
    {
     "data": {
      "text/plain": [
       "'A3OXHLG6DIBRW8'"
      ]
     },
     "execution_count": 11,
     "metadata": {},
     "output_type": "execute_result"
    }
   ],
   "source": [
    "user = sports['reviewerID'].value_counts().idxmax()\n",
    "sample_user = user\n",
    "sample_user\n"
   ]
  },
  {
   "cell_type": "markdown",
   "id": "f16a9ba9",
   "metadata": {},
   "source": [
    "\n",
    "\n",
    "* Getting all the products which have more than 1 rating and which have not been rated by the selected user\n",
    "\n"
   ]
  },
  {
   "cell_type": "code",
   "execution_count": 12,
   "id": "b8d1f64f",
   "metadata": {},
   "outputs": [],
   "source": [
    "rest = list(set(all_products.keys()) - set(all_users[sample_user]))\n"
   ]
  },
  {
   "cell_type": "markdown",
   "id": "e116bff9",
   "metadata": {},
   "source": [
    "\n",
    "\n",
    "* Choosing random 1000 products out of the list generated in the previous step\n",
    "\n"
   ]
  },
  {
   "cell_type": "code",
   "execution_count": 13,
   "id": "cc3a477f",
   "metadata": {},
   "outputs": [],
   "source": [
    "random1000 = np.random.choice(rest, size=1000)\n"
   ]
  },
  {
   "cell_type": "markdown",
   "id": "08af785a",
   "metadata": {},
   "source": [
    "\n",
    "\n",
    "*  Getting the list of all products for which ratings have been given by the sample user.  \n",
    "\n"
   ]
  },
  {
   "cell_type": "code",
   "execution_count": 14,
   "id": "e4210ecb",
   "metadata": {},
   "outputs": [],
   "source": [
    "compare_with = list(all_users[sample_user])\n"
   ]
  },
  {
   "cell_type": "markdown",
   "id": "0242212a",
   "metadata": {},
   "source": [
    "\n",
    "\n",
    "For each of the products among the 1000 that we chose randomly, we try to predict the ratings which would have been given by the sample user. In order to acheive this, we find the similarity coefficient between the product whose rating is to be predicted, and all those products for which ratings have already been given by the sample user. Once we have the similarity coefficients, we predict the rating for that particular product using the formula :\n",
    "\n",
    "$ \\large R(u, j) = \\large\\frac{\\large\\sum\\limits_{i \\ \\epsilon \\ compare \\_ with} S_{ij} \\ . \\ R(u, i)}{\\large\\sum S_{ij}} $  \n"
   ]
  },
  {
   "cell_type": "code",
   "execution_count": 15,
   "id": "21d8d932",
   "metadata": {
    "scrolled": false
   },
   "outputs": [],
   "source": [
    "prediction_dict = defaultdict(dict)\n",
    "\n",
    "for item in random1000:\n",
    "    sine, calc = dict(), []\n",
    "    for rated in compare_with:\n",
    "        if rated not in magnitudes:\n",
    "            continue\n",
    "        coeff = 0\n",
    "        for user in normalized_products[item]:\n",
    "            if user not in normalized_products[rated]:\n",
    "                continue\n",
    "            coeff += normalized_products[item][user] * \\\n",
    "                normalized_products[rated][user]\n",
    "        if magnitudes[rated] == 0 and magnitudes[item] == 0:\n",
    "            sine[rated] = 1\n",
    "        elif magnitudes[rated] == 0 or magnitudes[item] == 0:\n",
    "            sine[rated] = 0\n",
    "        else:\n",
    "            sine[rated] = coeff / (magnitudes[rated] * magnitudes[item])\n",
    "\n",
    "    coeffs = list()\n",
    "\n",
    "    sorted_sine = dict(\n",
    "        sorted(sine.items(), key=operator.itemgetter(1), reverse=True))\n",
    "    maxrange = min(len(sorted_sine.values()), 100)\n",
    "    for i in sine:\n",
    "        if sine[i] <= 0:\n",
    "            continue\n",
    "        calc.append(sine[i] * all_users[sample_user][i])\n",
    "        coeffs.append(sine[i])\n",
    "        maxrange -= 1\n",
    "        if maxrange == 0:\n",
    "            break\n",
    "    if len(coeffs) == 0:\n",
    "        continue\n",
    "    prediction_dict[item] = sum(calc) / sum(coeffs)\n"
   ]
  },
  {
   "cell_type": "markdown",
   "id": "943662fc",
   "metadata": {},
   "source": [
    "\n",
    "\n",
    "Making a Data Frame having the products which the sample user has not rated yet, and the predicted rating value for the same.  \n",
    "\n"
   ]
  },
  {
   "cell_type": "code",
   "execution_count": 16,
   "id": "416627cb",
   "metadata": {
    "scrolled": true
   },
   "outputs": [
    {
     "data": {
      "text/html": [
       "<div>\n",
       "<style scoped>\n",
       "    .dataframe tbody tr th:only-of-type {\n",
       "        vertical-align: middle;\n",
       "    }\n",
       "\n",
       "    .dataframe tbody tr th {\n",
       "        vertical-align: top;\n",
       "    }\n",
       "\n",
       "    .dataframe thead th {\n",
       "        text-align: right;\n",
       "    }\n",
       "</style>\n",
       "<table border=\"1\" class=\"dataframe\">\n",
       "  <thead>\n",
       "    <tr style=\"text-align: right;\">\n",
       "      <th></th>\n",
       "      <th>product_id</th>\n",
       "      <th>predicted_rating</th>\n",
       "    </tr>\n",
       "  </thead>\n",
       "  <tbody>\n",
       "    <tr>\n",
       "      <th>0</th>\n",
       "      <td>B00H2WOML2</td>\n",
       "      <td>4.857143</td>\n",
       "    </tr>\n",
       "    <tr>\n",
       "      <th>1</th>\n",
       "      <td>B019C3EUZ6</td>\n",
       "      <td>4.000000</td>\n",
       "    </tr>\n",
       "    <tr>\n",
       "      <th>2</th>\n",
       "      <td>B002AWO5VQ</td>\n",
       "      <td>4.857143</td>\n",
       "    </tr>\n",
       "    <tr>\n",
       "      <th>3</th>\n",
       "      <td>B008RDMPQO</td>\n",
       "      <td>4.857143</td>\n",
       "    </tr>\n",
       "    <tr>\n",
       "      <th>4</th>\n",
       "      <td>B001GAPY0E</td>\n",
       "      <td>4.857143</td>\n",
       "    </tr>\n",
       "  </tbody>\n",
       "</table>\n",
       "</div>"
      ],
      "text/plain": [
       "   product_id  predicted_rating\n",
       "0  B00H2WOML2          4.857143\n",
       "1  B019C3EUZ6          4.000000\n",
       "2  B002AWO5VQ          4.857143\n",
       "3  B008RDMPQO          4.857143\n",
       "4  B001GAPY0E          4.857143"
      ]
     },
     "execution_count": 16,
     "metadata": {},
     "output_type": "execute_result"
    }
   ],
   "source": [
    "# now we will pick top 100 items to recommend to user\n",
    "prediction_df = pd.DataFrame(prediction_dict.items(), columns=[\n",
    "                             \"product_id\", \"predicted_rating\"])\n",
    "prediction_df.head()\n"
   ]
  },
  {
   "cell_type": "code",
   "execution_count": 17,
   "id": "8c6504eb",
   "metadata": {},
   "outputs": [
    {
     "data": {
      "image/png": "[encoded data removed]",
      "text/plain": [
       "<Figure size 432x288 with 1 Axes>"
      ]
     },
     "metadata": {
      "needs_background": "light"
     },
     "output_type": "display_data"
    }
   ],
   "source": [
    "histogram = dict()\n",
    "for i in prediction_df.itertuples():\n",
    "    if i.predicted_rating not in histogram:\n",
    "        histogram[i.predicted_rating] = 1\n",
    "    else:\n",
    "        histogram[i.predicted_rating] += 1\n",
    "bar = sorted(histogram.items())\n",
    "x, y = zip(*bar)\n",
    "plt.plot(x, y)\n",
    "plt.show()\n"
   ]
  },
  {
   "cell_type": "code",
   "execution_count": 18,
   "id": "8643c657",
   "metadata": {},
   "outputs": [
    {
     "name": "stdout",
     "output_type": "stream",
     "text": [
      "Top 100 Recommended products for user A3OXHLG6DIBRW8 -\n",
      "B005N7Y81C\n",
      "B00LUH8QEY\n",
      "B00MWENG58\n",
      "B00AB87HH0\n",
      "B009ZBZVCW\n",
      "B01DIQD04A\n",
      "B00XD2AEGM\n",
      "B0066Q2MT4\n",
      "B00KB28SYC\n",
      "B001AS39LS\n",
      "B01B4WOXZA\n",
      "B007SGYXSO\n",
      "B00ARAODCE\n",
      "B005XWDA6G\n",
      "B005FUKWG2\n",
      "B01DHTXWKU\n",
      "B00G2NC16A\n",
      "B001C5KF84\n",
      "B000ZK9G4G\n",
      "B00CZ1CNV6\n",
      "B00JXGT2A6\n",
      "B015DBC0QC\n",
      "B003UWLQEY\n",
      "B007A4NF2Y\n",
      "B00VQI5JYC\n",
      "B00CZDTJSE\n",
      "B000ROCF5W\n",
      "B002BKEX32\n",
      "B00FIVUR40\n",
      "B00GM9TLSU\n",
      "B001NZJPOI\n",
      "B00CMJKP3Y\n",
      "B00NYZGS7W\n",
      "B00Q4AJABK\n",
      "B00L4GH674\n",
      "B00YUBTCNG\n",
      "B001KN1LBI\n",
      "B01DZMU21Q\n",
      "B005IQS5WG\n",
      "B01AU5QL1Q\n",
      "B0015RZCZK\n",
      "B00CIOGOYW\n",
      "B00O53MF88\n",
      "B005O1N7KK\n",
      "B009AVNNDQ\n",
      "B01HBARCA2\n",
      "B007KKDGEK\n",
      "B00IJNPHXU\n",
      "B0062PLR9U\n",
      "B005X71U1I\n",
      "B004N9TCPS\n",
      "B00BZTIRUU\n",
      "B005CRAP06\n",
      "B00194JDG8\n",
      "B00OEJZKIK\n",
      "B00YDQIUP4\n",
      "B008NL4R2U\n",
      "B013UAQC94\n",
      "B01GOQGGJ2\n",
      "B0009TTUT4\n",
      "B01CJHDTV8\n",
      "B018U47OCY\n",
      "B0096NUDW2\n",
      "B00M73Z6UM\n",
      "B0042J7P12\n",
      "B00AU6H68S\n",
      "B00KNCUMO4\n",
      "B00IUKR2IK\n",
      "B000AYFRV8\n",
      "B003SASU42\n",
      "B00HZGN9BE\n",
      "B00F0NSJKU\n",
      "B001TED1Y8\n",
      "B007DOTFMA\n",
      "B002Z9NXJ4\n",
      "B00G2TF292\n",
      "B009CXGPJQ\n",
      "B0052VIM6G\n",
      "B005ZXSFEK\n",
      "B00K7A9ZOK\n",
      "B01GLPO3ZA\n",
      "B00BVDR5FS\n",
      "B0062OTIX8\n",
      "B004S831SS\n",
      "B005ESORF2\n",
      "B00KU8ASM2\n",
      "B018HARWKK\n",
      "B00P1IP326\n",
      "B002BBBP50\n",
      "B00DXIUC4A\n",
      "B00JGC68XQ\n",
      "B00EQAP1NG\n",
      "B00IIWH37A\n",
      "B00XK3RR28\n",
      "B012YQBEHK\n",
      "B00YNVSBOE\n",
      "B004SOLINM\n",
      "B00OGN9CSS\n",
      "B00BKUZEYQ\n",
      "B01EAVS8F8\n"
     ]
    }
   ],
   "source": [
    "results = prediction_df.sort_values(by=\"predicted_rating\", ascending=False)\n",
    "recommended_products = list()\n",
    "for i in range(100):\n",
    "    recommended_products.append(results.iloc[i]['product_id'])\n",
    "print(\"Top 100 Recommended products for user \" + str(sample_user) + \" -\")\n",
    "for i in recommended_products:\n",
    "    print(i)\n"
   ]
  },
  {
   "cell_type": "code",
   "execution_count": null,
   "id": "4a89296c",
   "metadata": {},
   "outputs": [],
   "source": []
  }
 ],
 "metadata": {
  "kernelspec": {
   "display_name": "Python 3 (ipykernel)",
   "language": "python",
   "name": "python3"
  },
  "language_info": {
   "codemirror_mode": {
    "name": "ipython",
    "version": 3
   },
   "file_extension": ".py",
   "mimetype": "text/x-python",
   "name": "python",
   "nbconvert_exporter": "python",
   "pygments_lexer": "ipython3",
   "version": "3.9.6"
  }
 },
 "nbformat": 4,
 "nbformat_minor": 5
}
