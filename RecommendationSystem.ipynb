{
 "cells": [
  {
   "cell_type": "code",
   "execution_count": 6,
   "id": "902bb0f7",
   "metadata": {},
   "outputs": [],
   "source": [
    "import numpy as np\n",
    "import operator\n",
    "import pandas as pd\n",
    "from collections import defaultdict\n",
    "import matplotlib.pyplot as plt\n",
    "import seaborn as sns\n",
    "import warnings\n",
    "warnings.filterwarnings('ignore')\n"
   ]
  },
  {
   "cell_type": "markdown",
   "id": "a1945a50",
   "metadata": {},
   "source": [
    "## Reading dataset  \n",
    "[Dataset link](https://www.kaggle.com/arhamrumi/amazon-reviews-eda-20012018)  \n",
    "The dataset we use has the following attributes: rating, verification status of the review, reviewer ID, product ID,date of review, and votes.  \n",
    "However, for our analysis the relevant attributes are rating, reviewer ID, product ID."
   ]
  },
  {
   "cell_type": "code",
   "execution_count": 7,
   "id": "edc3d605",
   "metadata": {},
   "outputs": [
    {
     "name": "stdout",
     "output_type": "stream",
     "text": [
      "<class 'pandas.core.frame.DataFrame'>\n",
      "RangeIndex: 12969732 entries, 0 to 12969731\n",
      "Data columns (total 6 columns):\n",
      " #   Column      Dtype \n",
      "---  ------      ----- \n",
      " 0   rating      int64 \n",
      " 1   verified    bool  \n",
      " 2   reviewerID  object\n",
      " 3   product_id  object\n",
      " 4   date        int64 \n",
      " 5   vote        object\n",
      "dtypes: bool(1), int64(2), object(3)\n",
      "memory usage: 507.1+ MB\n"
     ]
    }
   ],
   "source": [
    "sports = pd.read_csv(\"Sports_and_Outdoors.csv\")\n",
    "sports.info()\n"
   ]
  },
  {
   "cell_type": "markdown",
   "id": "a9b91ff6",
   "metadata": {},
   "source": [
    "### Dropping columns not used for analysis\n",
    "Dropping columns verified and vote as they are not useful for our analysis\n",
    "&nbsp;"
   ]
  },
  {
   "cell_type": "code",
   "execution_count": 8,
   "id": "be0b49cb",
   "metadata": {},
   "outputs": [
    {
     "data": {
      "text/html": [
       "<div>\n",
       "<style scoped>\n",
       "    .dataframe tbody tr th:only-of-type {\n",
       "        vertical-align: middle;\n",
       "    }\n",
       "\n",
       "    .dataframe tbody tr th {\n",
       "        vertical-align: top;\n",
       "    }\n",
       "\n",
       "    .dataframe thead th {\n",
       "        text-align: right;\n",
       "    }\n",
       "</style>\n",
       "<table border=\"1\" class=\"dataframe\">\n",
       "  <thead>\n",
       "    <tr style=\"text-align: right;\">\n",
       "      <th></th>\n",
       "      <th>rating</th>\n",
       "      <th>reviewerID</th>\n",
       "      <th>product_id</th>\n",
       "      <th>date</th>\n",
       "    </tr>\n",
       "  </thead>\n",
       "  <tbody>\n",
       "    <tr>\n",
       "      <th>12968859</th>\n",
       "      <td>3</td>\n",
       "      <td>AAL07KPFE0VFI</td>\n",
       "      <td>B01HIT0QDG</td>\n",
       "      <td>1538697600</td>\n",
       "    </tr>\n",
       "    <tr>\n",
       "      <th>12969474</th>\n",
       "      <td>5</td>\n",
       "      <td>A39ANO7WWQ9PE8</td>\n",
       "      <td>B01HJA3STS</td>\n",
       "      <td>1538697600</td>\n",
       "    </tr>\n",
       "    <tr>\n",
       "      <th>12969475</th>\n",
       "      <td>5</td>\n",
       "      <td>A4HCTG3TV7UPM</td>\n",
       "      <td>B01HJA3STS</td>\n",
       "      <td>1538611200</td>\n",
       "    </tr>\n",
       "    <tr>\n",
       "      <th>12969105</th>\n",
       "      <td>1</td>\n",
       "      <td>A30DF0WFD9U1PT</td>\n",
       "      <td>B01HIY7NPU</td>\n",
       "      <td>1538611200</td>\n",
       "    </tr>\n",
       "    <tr>\n",
       "      <th>12965742</th>\n",
       "      <td>5</td>\n",
       "      <td>A2WCAIO2XACZ01</td>\n",
       "      <td>B01HGSLB6K</td>\n",
       "      <td>1538611200</td>\n",
       "    </tr>\n",
       "  </tbody>\n",
       "</table>\n",
       "</div>"
      ],
      "text/plain": [
       "          rating      reviewerID  product_id        date\n",
       "12968859       3   AAL07KPFE0VFI  B01HIT0QDG  1538697600\n",
       "12969474       5  A39ANO7WWQ9PE8  B01HJA3STS  1538697600\n",
       "12969475       5   A4HCTG3TV7UPM  B01HJA3STS  1538611200\n",
       "12969105       1  A30DF0WFD9U1PT  B01HIY7NPU  1538611200\n",
       "12965742       5  A2WCAIO2XACZ01  B01HGSLB6K  1538611200"
      ]
     },
     "execution_count": 8,
     "metadata": {},
     "output_type": "execute_result"
    }
   ],
   "source": [
    "sports.drop(['verified', 'vote'], axis=1, inplace=True)\n",
    "sports = sports.sort_values('date', ascending=False)\n",
    "sports.head()\n"
   ]
  },
  {
   "cell_type": "code",
   "execution_count": 9,
   "id": "98e686fc",
   "metadata": {},
   "outputs": [
    {
     "name": "stdout",
     "output_type": "stream",
     "text": [
      "Number of unique products 957764\n",
      "Number of unique users 6703391\n"
     ]
    }
   ],
   "source": [
    "products = sports['product_id'].unique()\n",
    "users = sports['reviewerID'].unique()\n",
    "print('Number of unique products', len(products))\n",
    "print('Number of unique users', len(users))\n"
   ]
  },
  {
   "cell_type": "code",
   "execution_count": 10,
   "id": "ab7f0e7f",
   "metadata": {},
   "outputs": [
    {
     "data": {
      "text/plain": [
       "5    8342962\n",
       "4    2046025\n",
       "1     996049\n",
       "3     967731\n",
       "2     616965\n",
       "Name: rating, dtype: int64"
      ]
     },
     "execution_count": 10,
     "metadata": {},
     "output_type": "execute_result"
    },
    {
     "data": {
      "image/png": "[encoded data removed]",
      "text/plain": [
       "<Figure size 432x288 with 1 Axes>"
      ]
     },
     "metadata": {
      "needs_background": "light"
     },
     "output_type": "display_data"
    }
   ],
   "source": [
    "plot = sns.countplot(x='rating', data=sports)\n",
    "sports['rating'].value_counts()\n"
   ]
  },
  {
   "cell_type": "markdown",
   "id": "3ba8d788",
   "metadata": {},
   "source": [
    "### Making a dictionary to store all ratings given by users to a particular product  \n"
   ]
  },
  {
   "cell_type": "code",
   "execution_count": 11,
   "id": "2550ec90",
   "metadata": {},
   "outputs": [],
   "source": [
    "all_products = defaultdict(dict)\n",
    "for ind in sports.itertuples():\n",
    "    all_products[ind.product_id][ind.reviewerID] = ind.rating\n",
    "all_products = dict(all_products)\n"
   ]
  },
  {
   "cell_type": "markdown",
   "id": "8d766780",
   "metadata": {},
   "source": [
    "### Top 30 products with most rating"
   ]
  },
  {
   "cell_type": "code",
   "execution_count": 12,
   "id": "5c4c77ef",
   "metadata": {},
   "outputs": [
    {
     "data": {
      "image/png": "[encoded data removed]",
      "text/plain": [
       "<Figure size 432x288 with 1 Axes>"
      ]
     },
     "metadata": {
      "needs_background": "light"
     },
     "output_type": "display_data"
    }
   ],
   "source": [
    "count_prods = []\n",
    "for i, val in all_products.items():\n",
    "    count_prods.append([len(val), i])\n",
    "count_prods = sorted(count_prods, reverse=True)[:30]\n",
    "\n",
    "number_of_reviews = [i[0] for i in count_prods]\n",
    "prod_id = [i[1] for i in count_prods]\n",
    "indexes = np.arange(len(number_of_reviews))\n",
    "\n",
    "plt.bar(indexes, number_of_reviews)\n",
    "\n",
    "plt.title('Products')\n",
    "plt.xticks(indexes, prod_id, rotation='vertical')\n",
    "\n",
    "plt.ylabel('Number of reviews')\n",
    "plt.show()"
   ]
  },
  {
   "cell_type": "markdown",
   "id": "9e459f9c",
   "metadata": {},
   "source": [
    "### Removing all products for which only 1 rating has been given   \n"
   ]
  },
  {
   "cell_type": "code",
   "execution_count": 13,
   "id": "afd6dcce",
   "metadata": {},
   "outputs": [],
   "source": [
    "new_all = defaultdict(dict)\n",
    "product_id_nottake = set()\n",
    "for i, val in all_products.items():\n",
    "    if len(val) > 1:\n",
    "        new_all[i] = val.copy()\n",
    "    else:\n",
    "        product_id_nottake.add(i)\n",
    "new_all = dict(new_all)\n",
    "all_products = new_all\n"
   ]
  },
  {
   "cell_type": "markdown",
   "id": "7726f7c2",
   "metadata": {},
   "source": [
    "### Making a dictionary to store all ratings given to products by a particular user    \n",
    "Note that the products which had only 1 rating will not be reflected in this dictionary  \n"
   ]
  },
  {
   "cell_type": "code",
   "execution_count": 14,
   "id": "b255f95a",
   "metadata": {},
   "outputs": [],
   "source": [
    "all_users = defaultdict(dict)\n",
    "for ind in sports.itertuples():\n",
    "    if ind.product_id not in product_id_nottake:\n",
    "        all_users[ind.reviewerID][ind.product_id] = ind.rating\n",
    "all_users = dict(all_users)\n"
   ]
  },
  {
   "cell_type": "markdown",
   "id": "ff763bc4",
   "metadata": {},
   "source": [
    "### Top 30 users who rated most products"
   ]
  },
  {
   "cell_type": "code",
   "execution_count": 15,
   "id": "e9b8245b",
   "metadata": {},
   "outputs": [
    {
     "data": {
      "image/png": "[encoded data removed]",
      "text/plain": [
       "<Figure size 432x288 with 1 Axes>"
      ]
     },
     "metadata": {
      "needs_background": "light"
     },
     "output_type": "display_data"
    }
   ],
   "source": [
    "count_users = []\n",
    "for i, val in all_users.items():\n",
    "    count_users.append([len(val), i])\n",
    "count_users = sorted(count_users, reverse=True)[:30]\n",
    "\n",
    "number_of_reviews = [i[0] for i in count_users]\n",
    "user_id = [i[1] for i in count_users]\n",
    "indexes = np.arange(len(number_of_reviews))\n",
    "\n",
    "plt.bar(indexes, number_of_reviews)\n",
    "\n",
    "plt.title('Users')\n",
    "plt.xticks(indexes, user_id, rotation='vertical')\n",
    "\n",
    "plt.ylabel('Number of reviews')\n",
    "plt.show()"
   ]
  },
  {
   "cell_type": "markdown",
   "id": "9511a5c1",
   "metadata": {},
   "source": [
    "&nbsp;\n",
    "## Making the data centered around zero\n",
    "\n",
    "> This is a preprocessing step which helps us in computing the **Pearson correlation**.   \n",
    "\n",
    "$\\Large r =\\Large\\frac{\\Large\\sum\\left(x_{i}-\\bar{x}\\right)\\left(y_{i}-\\bar{y}\\right)}{\\sqrt{\\Large\\sum\\left(x_{i}-\\bar{x}\\right)^{2} \\sum\\left(y_{i}-\\bar{y}\\right)^{2}}}$  \n",
    "\n",
    "$r = $ Correlation coefficient  \n",
    "$ x_{i} = $\tvalues of the x-variable in a sample  \n",
    "$\\bar{x} = $\tmean of the values of the x-variable  \n",
    "$ y_{i} = $\tvalues of the y-variable in a sample  \n",
    "$\\bar{y} = $\tmean of the values of the y-variable  \n",
    "\n",
    "We assume that a value of zero is given to all the products for which ratings haven't been given by a particular user.Thus, the set of all ratings for a given user can now be considered as a vector.  \n",
    "&nbsp;"
   ]
  },
  {
   "cell_type": "code",
   "execution_count": 16,
   "id": "9134aee2",
   "metadata": {},
   "outputs": [],
   "source": [
    "normalized_products = defaultdict(dict)\n",
    "for i, val in all_products.items():\n",
    "    normalized_products[i] = val.copy()\n",
    "for i, val in normalized_products.items():\n",
    "    values = list(val.values())\n",
    "    mean_val = np.mean(values)\n",
    "    for j in val:\n",
    "        val[j] -= mean_val"
   ]
  },
  {
   "cell_type": "markdown",
   "id": "2ba298a8",
   "metadata": {},
   "source": [
    "### For the each of the vectors defined in the previous step, we find the magnitudes.  \n"
   ]
  },
  {
   "cell_type": "code",
   "execution_count": 17,
   "id": "1e839dfc",
   "metadata": {},
   "outputs": [],
   "source": [
    "magnitudes = defaultdict(dict)\n",
    "\n",
    "for i in normalized_products:\n",
    "    values = list(normalized_products[i].values())\n",
    "    magnitudes[i] = np.sqrt(np.sum(np.square(values)))\n"
   ]
  },
  {
   "cell_type": "markdown",
   "id": "dddbe28e",
   "metadata": {},
   "source": [
    "### Randomly selecting a user from the set of all users who have given atleast 20 ratings.  \n",
    "If we select users who have lesser number of ratings, then we might get skewed results.  \n",
    "To visualise the dataset, we need to filter out such exceptional cases in order to get proper predictions.\n"
   ]
  },
  {
   "cell_type": "code",
   "execution_count": 26,
   "id": "2a54d913",
   "metadata": {},
   "outputs": [
    {
     "name": "stdout",
     "output_type": "stream",
     "text": [
      "The selected user id is A2IA71EYO2ZWII\n"
     ]
    }
   ],
   "source": [
    "candidate_users = list()\n",
    "for user, val in all_users.items():\n",
    "    if len(val) >= 20:\n",
    "        candidate_users.append(user)\n",
    "sample_user = np.random.choice(candidate_users, size=1)[0]\n",
    "print('The selected user id is', sample_user)\n"
   ]
  },
  {
   "cell_type": "markdown",
   "id": "f16a9ba9",
   "metadata": {},
   "source": [
    "### Getting all the products which have more than 1 rating and have not been rated by the selected user.  \n"
   ]
  },
  {
   "cell_type": "code",
   "execution_count": 27,
   "id": "b8d1f64f",
   "metadata": {},
   "outputs": [],
   "source": [
    "rest = list(set(all_products.keys()) - set(all_users[sample_user]))\n"
   ]
  },
  {
   "cell_type": "markdown",
   "id": "e116bff9",
   "metadata": {},
   "source": [
    "### Choosing random 1000 products out of the list generated in the previous step  \n"
   ]
  },
  {
   "cell_type": "code",
   "execution_count": 28,
   "id": "cc3a477f",
   "metadata": {},
   "outputs": [],
   "source": [
    "random1000 = np.random.choice(rest, size=1000)\n"
   ]
  },
  {
   "cell_type": "markdown",
   "id": "08af785a",
   "metadata": {},
   "source": [
    "### Getting the list of all products for which ratings have been given by the sample user.  \n"
   ]
  },
  {
   "cell_type": "code",
   "execution_count": 29,
   "id": "e4210ecb",
   "metadata": {},
   "outputs": [],
   "source": [
    "compare_with = list(all_users[sample_user])\n"
   ]
  },
  {
   "cell_type": "markdown",
   "id": "0242212a",
   "metadata": {},
   "source": [
    "&nbsp;\n",
    "## Getting predictions\n",
    "\n",
    "For each of the products among the 1000 that we chose randomly, we try to predict the ratings which would have been given by the sample user. In order to acheive this, we find the similarity coefficient between the product whose rating is to be predicted, and all those products for which ratings have already been given by the sample user. Once we have the similarity coefficients, we predict the rating for that particular product using the formula :\n",
    "\n",
    "$ \\Large R(u, j) = \\Large\\frac{\\Large\\sum\\limits_{i \\ \\epsilon \\ compare \\_ with} S_{ij} \\ . \\ R(u, i)}{\\Large\\sum S_{ij}} $ \n",
    " \n",
    "&nbsp;"
   ]
  },
  {
   "cell_type": "code",
   "execution_count": 30,
   "id": "21d8d932",
   "metadata": {
    "scrolled": false
   },
   "outputs": [],
   "source": [
    "prediction_dict = defaultdict(dict)\n",
    "\n",
    "for item in random1000:\n",
    "    sine, calc = dict(), []\n",
    "    for rated in compare_with:\n",
    "        if rated not in magnitudes:\n",
    "            continue\n",
    "        coeff = 0\n",
    "        for user in normalized_products[item]:\n",
    "            if user not in normalized_products[rated]:\n",
    "                continue\n",
    "            coeff += normalized_products[item][user] * normalized_products[rated][user]\n",
    "        if magnitudes[rated] == 0 and magnitudes[item] == 0:\n",
    "            sine[rated] = 1\n",
    "        elif magnitudes[rated] == 0 or magnitudes[item] == 0:\n",
    "            sine[rated] = 0\n",
    "        else:\n",
    "            sine[rated] = coeff / (magnitudes[rated] * magnitudes[item])\n",
    "\n",
    "    coeffs = list()\n",
    "\n",
    "    sorted_sine = dict(\n",
    "        sorted(sine.items(), key=operator.itemgetter(1), reverse=True))\n",
    "    maxrange = min(len(sorted_sine.values()), 15)\n",
    "    for i in sorted_sine:\n",
    "        if sorted_sine[i] <= 0:\n",
    "            break\n",
    "        calc.append(sorted_sine[i] * all_users[sample_user][i])\n",
    "        coeffs.append(sorted_sine[i])\n",
    "        maxrange -= 1\n",
    "        if maxrange == 0:\n",
    "            break\n",
    "    if len(coeffs) == 0:\n",
    "        continue\n",
    "    prediction_dict[item] = sum(calc) / sum(coeffs)\n"
   ]
  },
  {
   "cell_type": "markdown",
   "id": "943662fc",
   "metadata": {},
   "source": [
    "#### Making a Data Frame having the products which the sample user has not rated yet, and the predicted rating value for the same.    \n"
   ]
  },
  {
   "cell_type": "code",
   "execution_count": 31,
   "id": "416627cb",
   "metadata": {
    "scrolled": true
   },
   "outputs": [
    {
     "data": {
      "text/html": [
       "<div>\n",
       "<style scoped>\n",
       "    .dataframe tbody tr th:only-of-type {\n",
       "        vertical-align: middle;\n",
       "    }\n",
       "\n",
       "    .dataframe tbody tr th {\n",
       "        vertical-align: top;\n",
       "    }\n",
       "\n",
       "    .dataframe thead th {\n",
       "        text-align: right;\n",
       "    }\n",
       "</style>\n",
       "<table border=\"1\" class=\"dataframe\">\n",
       "  <thead>\n",
       "    <tr style=\"text-align: right;\">\n",
       "      <th></th>\n",
       "      <th>product_id</th>\n",
       "      <th>predicted_rating</th>\n",
       "    </tr>\n",
       "  </thead>\n",
       "  <tbody>\n",
       "    <tr>\n",
       "      <th>0</th>\n",
       "      <td>B00488R666</td>\n",
       "      <td>5.0</td>\n",
       "    </tr>\n",
       "    <tr>\n",
       "      <th>1</th>\n",
       "      <td>B00LGYHZT8</td>\n",
       "      <td>5.0</td>\n",
       "    </tr>\n",
       "    <tr>\n",
       "      <th>2</th>\n",
       "      <td>B0029F62LU</td>\n",
       "      <td>5.0</td>\n",
       "    </tr>\n",
       "    <tr>\n",
       "      <th>3</th>\n",
       "      <td>B00TY4AMYM</td>\n",
       "      <td>4.0</td>\n",
       "    </tr>\n",
       "    <tr>\n",
       "      <th>4</th>\n",
       "      <td>B0075D27WE</td>\n",
       "      <td>5.0</td>\n",
       "    </tr>\n",
       "  </tbody>\n",
       "</table>\n",
       "</div>"
      ],
      "text/plain": [
       "   product_id  predicted_rating\n",
       "0  B00488R666               5.0\n",
       "1  B00LGYHZT8               5.0\n",
       "2  B0029F62LU               5.0\n",
       "3  B00TY4AMYM               4.0\n",
       "4  B0075D27WE               5.0"
      ]
     },
     "execution_count": 31,
     "metadata": {},
     "output_type": "execute_result"
    }
   ],
   "source": [
    "# now we will pick top 100 items to recommend to user\n",
    "prediction_df = pd.DataFrame(prediction_dict.items(), columns=[\n",
    "                             \"product_id\", \"predicted_rating\"])\n",
    "prediction_df.head()"
   ]
  },
  {
   "cell_type": "markdown",
   "id": "9fb33863",
   "metadata": {},
   "source": [
    "## Graphs for analysis"
   ]
  },
  {
   "cell_type": "markdown",
   "id": "5ce07661",
   "metadata": {},
   "source": [
    "#### Line plot showing ratings predicted"
   ]
  },
  {
   "cell_type": "code",
   "execution_count": 32,
   "id": "8c6504eb",
   "metadata": {},
   "outputs": [
    {
     "data": {
      "text/plain": [
       "<AxesSubplot:xlabel='rating', ylabel='frequency of rating'>"
      ]
     },
     "execution_count": 32,
     "metadata": {},
     "output_type": "execute_result"
    },
    {
     "data": {
      "image/png": "[encoded data removed]",
      "text/plain": [
       "<Figure size 432x288 with 1 Axes>"
      ]
     },
     "metadata": {
      "needs_background": "light"
     },
     "output_type": "display_data"
    }
   ],
   "source": [
    "histogram = dict()\n",
    "for i in prediction_df.itertuples():\n",
    "    if histogram.get(i.predicted_rating) == None:\n",
    "        histogram[i.predicted_rating] = 1\n",
    "    else:\n",
    "        histogram[i.predicted_rating] += 1\n",
    "plot_data = pd.DataFrame(sorted(histogram.items()), columns=['rating', 'frequency of rating'])\n",
    "sns.lineplot(x='rating', y='frequency of rating', data=plot_data)"
   ]
  },
  {
   "cell_type": "markdown",
   "id": "39127475",
   "metadata": {},
   "source": [
    "# Top recommendations"
   ]
  },
  {
   "cell_type": "code",
   "execution_count": 33,
   "id": "8643c657",
   "metadata": {},
   "outputs": [
    {
     "name": "stdout",
     "output_type": "stream",
     "text": [
      "Top 43 Recommended products for user A2IA71EYO2ZWII -\n",
      "B0029F62LU\n",
      "B002BMB8T2\n",
      "B00488R666\n",
      "B0036CN36W\n",
      "B00K09P7UE\n",
      "B00LLZCVYG\n",
      "B000J084KY\n",
      "B00TY25R0I\n",
      "B001Q3LTV4\n",
      "B00IAIG878\n",
      "B01AUOHLI4\n",
      "B013XJKTVO\n",
      "B00BMAFOKS\n",
      "B000F630II\n",
      "B0001NDYOK\n",
      "B00JZNQLU6\n",
      "B001CK0MHI\n",
      "B000EZ0ELQ\n",
      "B00LGYHZT8\n",
      "B002TI51QO\n",
      "B00JTTWHTA\n",
      "B00FEXSJTW\n",
      "B0075D27WE\n",
      "B000FY05PG\n",
      "B001F17AZG\n",
      "B0006ZK3KG\n",
      "B00PZR1GBK\n",
      "B017G7PXCY\n",
      "B00B60HYQG\n",
      "B001ZTVYLY\n",
      "B009PCK91Y\n",
      "B00FQDEOZI\n",
      "B017XT23FK\n",
      "B005KS1MJ0\n",
      "B001QKK8UK\n",
      "B002FXEWVI\n",
      "B01DJW0E8S\n",
      "B01GCJ6F2O\n",
      "B000N8QM6K\n",
      "B00BS54C9Q\n",
      "B00TY4AMYM\n",
      "B00KZD6ZH4\n",
      "B000LC2348\n"
     ]
    }
   ],
   "source": [
    "results = prediction_df.sort_values(by=\"predicted_rating\", ascending=False)\n",
    "recommended_products = list()\n",
    "for i in range(min(100 , len(results))):\n",
    "    recommended_products.append(results.iloc[i]['product_id'])\n",
    "print(\"Top \" + str(len(recommended_products)) + \" Recommended products for user \" + str(sample_user) + \" -\")\n",
    "for i in recommended_products:\n",
    "    print(i)\n"
   ]
  },
  {
   "cell_type": "code",
   "execution_count": null,
   "id": "9fff869c",
   "metadata": {},
   "outputs": [],
   "source": []
  }
 ],
 "metadata": {
  "kernelspec": {
   "display_name": "Python 3 (ipykernel)",
   "language": "python",
   "name": "python3"
  },
  "language_info": {
   "codemirror_mode": {
    "name": "ipython",
    "version": 3
   },
   "file_extension": ".py",
   "mimetype": "text/x-python",
   "name": "python",
   "nbconvert_exporter": "python",
   "pygments_lexer": "ipython3",
   "version": "3.9.6"
  }
 },
 "nbformat": 4,
 "nbformat_minor": 5
}
